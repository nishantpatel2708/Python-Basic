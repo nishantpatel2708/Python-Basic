{
 "cells": [
  {
   "cell_type": "code",
   "execution_count": 2,
   "metadata": {},
   "outputs": [
    {
     "name": "stdout",
     "output_type": "stream",
     "text": [
      "1\n",
      "2\n",
      "6\n",
      "24\n",
      "120\n",
      "720\n",
      "Factorial of the given number is:  720\n"
     ]
    }
   ],
   "source": [
    "# Find factorial\n",
    "\n",
    "n = int (input (\"Enter a number: \"))\n",
    "factorial = 1\n",
    "if n >= 1:\n",
    "    for i in range (1, n+1):\n",
    "        factorial=factorial *i\n",
    "        print(factorial)\n",
    "print(\"Factorial of the given number is: \", factorial)"
   ]
  },
  {
   "cell_type": "code",
   "execution_count": 5,
   "metadata": {},
   "outputs": [
    {
     "name": "stdout",
     "output_type": "stream",
     "text": [
      "Leap Year\n"
     ]
    }
   ],
   "source": [
    "# Find Leap year\n",
    "\n",
    "def checkLeapYear(year):\n",
    "    if year%400==0:\n",
    "            return True\n",
    "    elif year%4==0:\n",
    "            if year%100!=0:\n",
    "                    return True\n",
    "            else:\n",
    "                    return False;\n",
    "    \n",
    "year = int(input(\"Enter the year: \"))\n",
    "if (checkLeapYear(year)):\n",
    "    print(\"Leap Year\")\n",
    "else:\n",
    "    print(\"Not a Leap Year\")"
   ]
  },
  {
   "cell_type": "code",
   "execution_count": 12,
   "metadata": {},
   "outputs": [
    {
     "name": "stdout",
     "output_type": "stream",
     "text": [
      "Prime\n"
     ]
    }
   ],
   "source": [
    "# prime numbers\n",
    "\n",
    "# lower = 1\n",
    "# upper = 50\n",
    "# print(\"Prime numbers between\", lower, \"and\", upper, \"are:\")\n",
    "# for num in range(lower, upper + 1):\n",
    "   \n",
    "#    if num > 1:\n",
    "#        for i in range(2, num):\n",
    "#            if (num % i) == 0:\n",
    "#                break\n",
    "#        else:\n",
    "#            print(num)\n",
    "\n",
    "\n",
    "# check prime number\n",
    "m=0\n",
    "is_prime=0\n",
    "n = 11\n",
    "if(n == 1):\n",
    "  flag = 1\n",
    "  print(\"Not Prime\")\n",
    "for i in range(2,n):\n",
    "  if(n % i == 0):\n",
    "      print(\"Not Prime\")\n",
    "      is_prime=1\n",
    "      break  \n",
    "  \n",
    "if (is_prime==0):\n",
    "  print(\"Prime\")"
   ]
  },
  {
   "cell_type": "code",
   "execution_count": 18,
   "metadata": {},
   "outputs": [
    {
     "name": "stdout",
     "output_type": "stream",
     "text": [
      "34\n"
     ]
    }
   ],
   "source": [
    "def fibonacci(n):\n",
    "    a = 0\n",
    "    b = 1\n",
    "    if n < 0:\n",
    "        print(\"Incorrect input\")\n",
    "    elif n == 0:\n",
    "        return a\n",
    "    elif n == 1:\n",
    "        return b\n",
    "    else:\n",
    "        for i in range(2, n):\n",
    "            c = a + b\n",
    "            a = b\n",
    "            b = c\n",
    "        return b\n",
    " \n",
    "# Driver Program\n",
    " \n",
    "print(fibonacci(10))"
   ]
  },
  {
   "cell_type": "code",
   "execution_count": 19,
   "metadata": {},
   "outputs": [
    {
     "name": "stdout",
     "output_type": "stream",
     "text": [
      "65\n"
     ]
    }
   ],
   "source": [
    "print(ord('A'))"
   ]
  }
 ],
 "metadata": {
  "kernelspec": {
   "display_name": "Python 3",
   "language": "python",
   "name": "python3"
  },
  "language_info": {
   "codemirror_mode": {
    "name": "ipython",
    "version": 3
   },
   "file_extension": ".py",
   "mimetype": "text/x-python",
   "name": "python",
   "nbconvert_exporter": "python",
   "pygments_lexer": "ipython3",
   "version": "3.10.0"
  }
 },
 "nbformat": 4,
 "nbformat_minor": 2
}
