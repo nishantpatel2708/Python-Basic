{
 "cells": [
  {
   "cell_type": "code",
   "execution_count": 3,
   "metadata": {},
   "outputs": [
    {
     "name": "stdout",
     "output_type": "stream",
     "text": [
      "* * * * * \n",
      "* * * * \n",
      "* * * \n",
      "* * \n",
      "* \n"
     ]
    }
   ],
   "source": [
    "n=5\n",
    "for i in range(n, 0, -1):\n",
    "    for j in range(n-i):\n",
    "        print(end=\"\")\n",
    "    for j in range(0,i):\n",
    "        print('*', end=\" \")\n",
    "    print()"
   ]
  },
  {
   "cell_type": "code",
   "execution_count": 2,
   "metadata": {},
   "outputs": [
    {
     "name": "stdout",
     "output_type": "stream",
     "text": [
      "    * \n",
      "   * * \n",
      "  * * * \n",
      " * * * * \n",
      "* * * * * \n"
     ]
    }
   ],
   "source": [
    "x = 5\n",
    "n = x-1\n",
    "for i in range(0,x):\n",
    "    for j in range(0,n):\n",
    "        print('',end= ' ')\n",
    "    n = n-1\n",
    "    for j in range(0,i+1):\n",
    "        print('* ',end='')\n",
    "    print('')\n",
    "# for i in range(x, 0, -1):\n",
    "#     for j in range(x-i):\n",
    "#         print(end=\" \")\n",
    "#     # n=n+1\n",
    "#     for j in range(0,i):\n",
    "#         print(\"*\",end=' ')\n",
    "#     print(\"\")"
   ]
  },
  {
   "cell_type": "code",
   "execution_count": 10,
   "metadata": {},
   "outputs": [
    {
     "name": "stdout",
     "output_type": "stream",
     "text": [
      "*********\n",
      " *******\n",
      "  *****\n",
      "   ***\n",
      "    *\n"
     ]
    }
   ],
   "source": [
    "n  = 5\n",
    "for i in range(n,0, -1):\n",
    "    for j in range(n-i):\n",
    "        print(\" \", end=\"\")\n",
    "    for j in range(1, 2*i):\n",
    "        print(\"*\", end=\"\")\n",
    "    print()"
   ]
  },
  {
   "cell_type": "code",
   "execution_count": 14,
   "metadata": {},
   "outputs": [
    {
     "name": "stdout",
     "output_type": "stream",
     "text": [
      "         * * * * * * \n",
      "          * * * * * \n",
      "           * * * * \n",
      "            * * * \n",
      "             * * \n",
      "              * \n"
     ]
    }
   ],
   "source": [
    "n = 5\n",
    "k = 2 * n - 1  \n",
    "for i in range(n, -1, -1):  \n",
    "    for j in range(k, 0, -1):  \n",
    "        print(end=\" \")  \n",
    "    k = k + 1  \n",
    "    for j in range(0, i + 1):  \n",
    "        print(\"*\", end=\" \")  \n",
    "    print(\"\")"
   ]
  }
 ],
 "metadata": {
  "kernelspec": {
   "display_name": "Python 3.10.2 64-bit",
   "language": "python",
   "name": "python3"
  },
  "language_info": {
   "codemirror_mode": {
    "name": "ipython",
    "version": 3
   },
   "file_extension": ".py",
   "mimetype": "text/x-python",
   "name": "python",
   "nbconvert_exporter": "python",
   "pygments_lexer": "ipython3",
   "version": "3.10.2"
  },
  "orig_nbformat": 4,
  "vscode": {
   "interpreter": {
    "hash": "589a2cc98ffe5e2d45b6866beca2b77f271827a16f23151d45186d7405d7f4f6"
   }
  }
 },
 "nbformat": 4,
 "nbformat_minor": 2
}
