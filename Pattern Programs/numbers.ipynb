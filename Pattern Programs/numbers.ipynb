{
 "cells": [
  {
   "cell_type": "code",
   "execution_count": 3,
   "metadata": {},
   "outputs": [
    {
     "name": "stdout",
     "output_type": "stream",
     "text": [
      "1 \n",
      "1 2 \n",
      "1 2 3 \n",
      "1 2 3 4 \n",
      "1 2 3 4 5 \n"
     ]
    }
   ],
   "source": [
    "n = int(input(\"Enter number of rows you want to print:\" ))\n",
    "for i in range(1,n+1):\n",
    "    for j in range(1,i+1):\n",
    "        print(j,end=\" \")\n",
    "    print()"
   ]
  },
  {
   "cell_type": "code",
   "execution_count": 21,
   "metadata": {},
   "outputs": [
    {
     "name": "stdout",
     "output_type": "stream",
     "text": [
      "1 \n",
      "2 1 \n",
      "3 2 1 \n",
      "4 3 2 1 \n",
      "5 4 3 2 1 \n"
     ]
    }
   ],
   "source": [
    "n = int(input(\"Enter number of rows you want to print:\" ))\n",
    "for i in range(n):\n",
    "    for j in range(i,-1,-1):\n",
    "        print(j+1, end=\" \")\n",
    "    print(\"\")"
   ]
  },
  {
   "cell_type": "code",
   "execution_count": 23,
   "metadata": {},
   "outputs": [
    {
     "name": "stdout",
     "output_type": "stream",
     "text": [
      "1 \n",
      "2 2 \n",
      "3 3 3 \n",
      "4 4 4 4 \n",
      "5 5 5 5 5 \n"
     ]
    }
   ],
   "source": [
    "n = int(input(\"Enter number of rows you want to print:\" ))\n",
    "for i in range(n):\n",
    "    for j in range(i+1):\n",
    "        print(i+1, end=\" \")\n",
    "    print(\"\")"
   ]
  },
  {
   "cell_type": "code",
   "execution_count": 12,
   "metadata": {},
   "outputs": [
    {
     "name": "stdout",
     "output_type": "stream",
     "text": [
      "7 \n",
      "6 6 \n",
      "5 5 5 \n",
      "4 4 4 4 \n",
      "3 3 3 3 3 \n",
      "2 2 2 2 2 2 \n",
      "1 1 1 1 1 1 1 \n"
     ]
    }
   ],
   "source": [
    "n = int(input(\"Enter number of rows you want to print:\" ))\n",
    "for i in range(n):\n",
    "    for j in range(i+1):\n",
    "        print(n-i, end=\" \")\n",
    "    print(\"\")"
   ]
  },
  {
   "cell_type": "code",
   "execution_count": 1,
   "metadata": {},
   "outputs": [
    {
     "name": "stdout",
     "output_type": "stream",
     "text": [
      "5 \n",
      "5 4 \n",
      "5 4 3 \n",
      "5 4 3 2 \n",
      "5 4 3 2 1 \n"
     ]
    }
   ],
   "source": [
    "n = int(input(\"Enter number of rows you want to print:\" ))\n",
    "for i in range(n):\n",
    "    for j in range(i+1):\n",
    "        print(n-j, end=\" \")\n",
    "    print(\"\")"
   ]
  },
  {
   "cell_type": "code",
   "execution_count": 14,
   "metadata": {},
   "outputs": [
    {
     "name": "stdout",
     "output_type": "stream",
     "text": [
      "7 \n",
      "6 7 \n",
      "5 6 7 \n",
      "4 5 6 7 \n",
      "3 4 5 6 7 \n",
      "2 3 4 5 6 7 \n",
      "1 2 3 4 5 6 7 \n"
     ]
    }
   ],
   "source": [
    "n = int(input(\"Enter number of rows you want to print:\" ))\n",
    "for i in range(n):\n",
    "    for j in range(i,-1,-1):\n",
    "        print(n-j, end=\" \")\n",
    "    print(\"\")"
   ]
  },
  {
   "cell_type": "code",
   "execution_count": 30,
   "metadata": {},
   "outputs": [
    {
     "name": "stdout",
     "output_type": "stream",
     "text": [
      "        1 \n",
      "      1 2 \n",
      "    1 2 3 \n",
      "  1 2 3 4 \n",
      "1 2 3 4 5 \n"
     ]
    }
   ],
   "source": [
    "n = 5\n",
    "for i in range(n):\n",
    "    for j in range(n-i-1):\n",
    "        print(\" \", end=\" \")\n",
    "    for j in range(i+1):\n",
    "        print(j+1, end=\" \")\n",
    "    print()"
   ]
  },
  {
   "cell_type": "code",
   "execution_count": 33,
   "metadata": {},
   "outputs": [
    {
     "name": "stdout",
     "output_type": "stream",
     "text": [
      "        1 \n",
      "      2 1 2 \n",
      "    3 2 1 2 3 \n",
      "  4 3 2 1 2 3 4 \n",
      "5 4 3 2 1 2 3 4 5 \n"
     ]
    }
   ],
   "source": [
    "n = int(input(\"Enter Rows:\" ))\n",
    "for i in range(n):\n",
    "    for j in range(n-i-1):\n",
    "        print(\" \", end=\" \")\n",
    "    for j in range(i,-1,-1):\n",
    "        print(j+1, end=\" \")\n",
    "    for j in range(1,i+1):\n",
    "        print(j+1, end=\" \")\n",
    "    print()"
   ]
  },
  {
   "cell_type": "code",
   "execution_count": 19,
   "metadata": {},
   "outputs": [
    {
     "name": "stdout",
     "output_type": "stream",
     "text": [
      "1 \n",
      "2 3 \n",
      "4 5 6 \n",
      "7 8 9 10 \n"
     ]
    }
   ],
   "source": [
    "n = int(input(\"Enter Num of rows: \"))\n",
    "num = 1\n",
    "for row in range(1,n+1):\n",
    "    for col in range(1,row+1):\n",
    "        print(num, end=\" \")\n",
    "        num=num+1\n",
    "    print()"
   ]
  },
  {
   "cell_type": "code",
   "execution_count": 28,
   "metadata": {},
   "outputs": [
    {
     "name": "stdout",
     "output_type": "stream",
     "text": [
      "      0  \n",
      "    1  1  \n",
      "  2  3  5  \n",
      "8  13  21  34  \n"
     ]
    }
   ],
   "source": [
    "n=4\n",
    "f=[0, 1, 1, 2, 3, 5, 8, 13, 21, 34, 55]\n",
    "listindex = 0\n",
    "\n",
    "for i in range(1, n+1):\n",
    "    for j in range(1, (n-i)+1):\n",
    "        print(\" \", end=\" \")\n",
    "    for j in range(1, i+1):\n",
    "        print(f[listindex],' ', end='')\n",
    "        listindex = listindex + 1\n",
    "    print()"
   ]
  },
  {
   "cell_type": "code",
   "execution_count": 9,
   "metadata": {},
   "outputs": [
    {
     "name": "stdout",
     "output_type": "stream",
     "text": [
      "1  4  9  16  \n",
      " 25  36  49  \n",
      "  64  81  \n",
      "   100  \n"
     ]
    }
   ],
   "source": [
    "n=4\n",
    "sample_list = [1,2,3,4,5,6,7,8,9,10]\n",
    "f = [number ** 2 for number in sample_list]\n",
    "\n",
    "\n",
    "# f=[ 1,4,9,16,25,36,49,64,81,100 ]\n",
    "listindex = 0\n",
    "\n",
    "for i in range(n, 0, -1):\n",
    "    for j in range(n-i):\n",
    "        print(end=\" \")\n",
    "    for j in range(0,i):\n",
    "        print(f[listindex], end=\"  \")\n",
    "        listindex = listindex + 1\n",
    "\n",
    "    print()"
   ]
  },
  {
   "cell_type": "code",
   "execution_count": 11,
   "metadata": {},
   "outputs": [
    {
     "name": "stdout",
     "output_type": "stream",
     "text": [
      "  0 \n",
      " 1 1 \n",
      "2 3 5 \n",
      "8 13 \n",
      " 21 \n"
     ]
    }
   ],
   "source": [
    "list1=[0,1,1,2,3,5,8,13,21]\n",
    "index=0\n",
    "x = int(input('Enter num:'))\n",
    "n = x-1\n",
    "for i in range(0,x-1):\n",
    "    for j in range(0,n):\n",
    "        print('',end= ' ')\n",
    "    n = n-1\n",
    "    for j in range(0,i+1):\n",
    "        print(list1[index] ,end=' ')\n",
    "        index = index +1\n",
    "        \n",
    "    print('')\n",
    "for i in range(x, 0, -1):\n",
    "    for j in range(x-i-1):\n",
    "        print(end=\" \")\n",
    "    # n=n+1\n",
    "    for j in range(0,i):\n",
    "        print(list1[index],end=' ')\n",
    "        index = index + 1\n",
    "        \n",
    "    print(\"\")"
   ]
  },
  {
   "cell_type": "code",
   "execution_count": 5,
   "metadata": {},
   "outputs": [
    {
     "name": "stdout",
     "output_type": "stream",
     "text": [
      "  0 \n",
      " 1 1 \n",
      "2 3 5 \n",
      "8 13 \n",
      " 21 \n"
     ]
    }
   ],
   "source": [
    "row_size = 3\n",
    "a = 0\n",
    "b = 1\n",
    "c = a+b\n",
    "t=1\n",
    "for out in range(1, row_size+1):\n",
    "    for space in range(1, (row_size-out)+1):\n",
    "        print(end=\" \")\n",
    "    for inn in range(1, out+1):\n",
    "      if t==1:\n",
    "        print(a, end=\" \")\n",
    "        t = t+1\n",
    "      else:\n",
    "        print(c, end=\" \")\n",
    "\n",
    "        c = a+b\n",
    "        a = b\n",
    "        b = c\n",
    "    print(\"\\r\")\n",
    "for i in range(row_size-1, 0, -1):\n",
    "    for j in range(row_size-i-1):\n",
    "        print(end=\" \")\n",
    "    for j in range(0,i):\n",
    "        print(c, end=\" \")\n",
    "        c = a+b\n",
    "        a = b\n",
    "        b = c\n",
    "    print(\"\\r\")"
   ]
  }
 ],
 "metadata": {
  "kernelspec": {
   "display_name": "Python 3.10.2 64-bit",
   "language": "python",
   "name": "python3"
  },
  "language_info": {
   "codemirror_mode": {
    "name": "ipython",
    "version": 3
   },
   "file_extension": ".py",
   "mimetype": "text/x-python",
   "name": "python",
   "nbconvert_exporter": "python",
   "pygments_lexer": "ipython3",
   "version": "3.10.2"
  },
  "orig_nbformat": 4,
  "vscode": {
   "interpreter": {
    "hash": "589a2cc98ffe5e2d45b6866beca2b77f271827a16f23151d45186d7405d7f4f6"
   }
  }
 },
 "nbformat": 4,
 "nbformat_minor": 2
}
