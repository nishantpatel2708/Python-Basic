{
 "cells": [
  {
   "cell_type": "code",
   "execution_count": null,
   "metadata": {},
   "outputs": [],
   "source": [
    "import json\n",
    "\n",
    "isRunning = True\n",
    "\n",
    "def load_data():\n",
    "    with open('data.json', 'r') as file:\n",
    "        return json.load(file)\n",
    "\n",
    "def save_data(data):\n",
    "    with open('data.json', 'w') as file:\n",
    "        json.dump(data, file, indent=4)\n",
    "\n",
    "def add_new_item(data):\n",
    "    item_name = input(\"Enter item name: \")\n",
    "    item_price = float(input(\"Enter item price: \"))\n",
    "    new_item = {\n",
    "        \"id\": len(data['items']) + 1,\n",
    "        \"name\": item_name,\n",
    "        \"price\": item_price\n",
    "    }\n",
    "    data['items'].append(new_item)\n",
    "    print(\"Item added successfully!\")\n",
    "\n",
    "def take_order():\n",
    "    pass\n",
    "\n",
    "def take_command(data):\n",
    "    print(\"Welcome to our bakery system \\nPlease select a command:\")\n",
    "    print(\"1. Add a new item\")\n",
    "\n",
    "    command = int(input(\"\"))\n",
    "    if command == 1:\n",
    "        add_new_item(data)\n",
    "\n",
    "# Load initial data from file\n",
    "data = load_data()\n",
    "\n",
    "while isRunning:\n",
    "    take_command(data)\n",
    "    isRunning = False\n",
    "\n",
    "# Save updated data back to file\n",
    "save_data(data)\n",
    "\n",
    "# Print updated JSON data\n",
    "print(json.dumps(data, indent=4))"
   ]
  },
  {
   "cell_type": "code",
   "execution_count": 7,
   "metadata": {},
   "outputs": [
    {
     "name": "stdout",
     "output_type": "stream",
     "text": [
      "[2, 3, 4, 2, 3]\n",
      "[2, 3, 2]\n"
     ]
    }
   ],
   "source": [
    "def count_occurrences(nums):\n",
    "    # Initialize variables to store the last seen number and its count\n",
    "    last_num = None\n",
    "    count = 0\n",
    "    # Initialize an empty list to store the counts in order of appearance\n",
    "    result = []\n",
    "\n",
    "    # Iterate through the array\n",
    "    for num in nums:\n",
    "        # If the current number is different from the last seen number\n",
    "        if num != last_num:\n",
    "            # If this is not the first number encountered, append its count to the result\n",
    "            if last_num is not None:\n",
    "                result.append(count)\n",
    "            # Update the last seen number and reset the count\n",
    "            last_num = num\n",
    "            count = 1\n",
    "        else:\n",
    "            # If the current number is the same as the last seen number, increment the count\n",
    "            count += 1\n",
    "\n",
    "    # Append the count of the last seen number to the result\n",
    "    result.append(count)\n",
    "\n",
    "    return result\n",
    "\n",
    "# Example usage:\n",
    "nums1 = [3, 3, 2, 2, 2, 1, 1, 1, 1, 4, 4, 5, 5, 5]\n",
    "print(count_occurrences(nums1))  # Output: [2, 3, 4, 2, 3]\n",
    "\n",
    "nums2 = [2, 2, 1, 1, 1, 2, 2]\n",
    "print(count_occurrences(nums2))  # Output: [2, 3, 2]\n"
   ]
  }
 ],
 "metadata": {
  "kernelspec": {
   "display_name": "Python 3",
   "language": "python",
   "name": "python3"
  },
  "language_info": {
   "codemirror_mode": {
    "name": "ipython",
    "version": 3
   },
   "file_extension": ".py",
   "mimetype": "text/x-python",
   "name": "python",
   "nbconvert_exporter": "python",
   "pygments_lexer": "ipython3",
   "version": "3.10.0"
  }
 },
 "nbformat": 4,
 "nbformat_minor": 2
}
